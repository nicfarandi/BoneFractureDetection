{
 "cells": [
  {
   "cell_type": "markdown",
   "metadata": {},
   "source": [
    "# TODO"
   ]
  },
  {
   "cell_type": "markdown",
   "metadata": {},
   "source": [
    "# Import Libraries"
   ]
  },
  {
   "cell_type": "code",
   "execution_count": 37,
   "metadata": {},
   "outputs": [],
   "source": [
    "import cv2\n",
    "import numpy as np\n",
    "import matplotlib.pyplot as plt\n",
    "import os\n",
    "import tensorflow as tf\n",
    "import sklearn\n",
    "import pickle\n",
    "from sklearn.svm import SVC\n",
    "from sklearn.ensemble import RandomForestClassifier\n",
    "from sklearn.metrics import classification_report, accuracy_score\n",
    "from sklearn.model_selection import train_test_split\n",
    "from sklearn.cluster import KMeans\n",
    "from tqdm import tqdm"
   ]
  },
  {
   "cell_type": "markdown",
   "metadata": {},
   "source": [
    "# Import Dataset"
   ]
  },
  {
   "cell_type": "code",
   "execution_count": 5,
   "metadata": {},
   "outputs": [
    {
     "name": "stdout",
     "output_type": "stream",
     "text": [
      "['Avulsion fracture', 'Comminuted fracture', 'Fracture Dislocation', 'Greenstick fracture', 'Hairline Fracture', 'Impacted fracture', 'Longitudinal fracture', 'Oblique fracture', 'Pathological fracture', 'Spiral Fracture']\n"
     ]
    }
   ],
   "source": [
    "path = 'Bone Break Classification'\n",
    "class_list = os.listdir(path)\n",
    "print(class_list)"
   ]
  },
  {
   "cell_type": "code",
   "execution_count": 6,
   "metadata": {},
   "outputs": [
    {
     "name": "stdout",
     "output_type": "stream",
     "text": [
      "Maximum width: 640\n",
      "Maximum height: 640\n",
      "Max size: 640x640\n"
     ]
    }
   ],
   "source": [
    "max_width = 0\n",
    "max_height = 0\n",
    "\n",
    "for (index, _class) in enumerate(class_list):\n",
    "    class_path = os.path.join(path, _class)\n",
    "\n",
    "    train_path = os.path.join(class_path, 'Train')\n",
    "    for img_path in os.listdir(train_path):\n",
    "        full_path = os.path.join(train_path, img_path)\n",
    "        image = cv2.imread(full_path,0)\n",
    "        height, width = image.shape[:2]\n",
    "        max_width = max(max_width, width)\n",
    "        max_height = max(max_height, height)\n",
    "\n",
    "    test_path = os.path.join(class_path, 'Test')\n",
    "    for img_path in os.listdir(test_path):\n",
    "        full_path = os.path.join(test_path, img_path)\n",
    "        image = cv2.imread(full_path,0)\n",
    "        height, width = image.shape[:2]\n",
    "        max_width = max(max_width, width)\n",
    "        max_height = max(max_height, height)\n",
    "\n",
    "print(f\"Maximum width: {max_width}\")\n",
    "print(f\"Maximum height: {max_height}\")\n",
    "\n",
    "max_size = max(max_height, max_width)\n",
    "print(f\"Max size: {max_size}x{max_size}\")"
   ]
  },
  {
   "cell_type": "code",
   "execution_count": 7,
   "metadata": {},
   "outputs": [],
   "source": [
    "def resize_with_padding(image, target_size):\n",
    "    old_size = image.shape[:2]  \n",
    "    ratio = float(target_size) / max(old_size)  \n",
    "    new_size = tuple([int(x * ratio) for x in old_size])  \n",
    "\n",
    "    resized_image = cv2.resize(image, (new_size[1], new_size[0]))\n",
    "\n",
    "    delta_w = target_size - new_size[1]\n",
    "    delta_h = target_size - new_size[0]\n",
    "    top, bottom = delta_h // 2, delta_h - (delta_h // 2)\n",
    "    left, right = delta_w // 2, delta_w - (delta_w // 2)\n",
    "    \n",
    "    color = [0, 0, 0]  \n",
    "    padded_image = cv2.copyMakeBorder(resized_image, top, bottom, left, right, cv2.BORDER_CONSTANT, value=color)\n",
    "    \n",
    "    return padded_image"
   ]
  },
  {
   "cell_type": "code",
   "execution_count": 8,
   "metadata": {},
   "outputs": [],
   "source": [
    "train_images, train_classes = [], []\n",
    "test_images, test_classes = [], []\n",
    "\n",
    "for (index, _class) in enumerate(class_list):\n",
    "    class_path = os.path.join(path, _class)\n",
    "\n",
    "    train_path = os.path.join(class_path, 'Train')\n",
    "    for img_path in os.listdir(train_path):\n",
    "        full_path = os.path.join(train_path, img_path)\n",
    "        image = cv2.imread(full_path,0)\n",
    "        resized_image = resize_with_padding(image, max_size)\n",
    "        train_images.append(resized_image)\n",
    "        train_classes.append(index)\n",
    "\n",
    "    test_path = os.path.join(class_path, 'Test')\n",
    "    for img_path in os.listdir(test_path):\n",
    "        full_path = os.path.join(test_path, img_path)\n",
    "        image = cv2.imread(full_path,0)\n",
    "        resized_image = resize_with_padding(image, max_size)\n",
    "        test_images.append(resized_image)\n",
    "        test_classes.append(index)    "
   ]
  },
  {
   "cell_type": "markdown",
   "metadata": {},
   "source": [
    "# Code"
   ]
  },
  {
   "cell_type": "markdown",
   "metadata": {},
   "source": [
    "## Preprocessing"
   ]
  },
  {
   "cell_type": "code",
   "execution_count": 24,
   "metadata": {},
   "outputs": [],
   "source": [
    "test_images = np.array(test_images)\n",
    "train_images = np.array(train_images)\n",
    "test_classes = np.array(test_classes)\n",
    "train_classes = np.array(train_classes)"
   ]
  },
  {
   "cell_type": "code",
   "execution_count": 25,
   "metadata": {},
   "outputs": [],
   "source": [
    "def normalize(image_list):\n",
    "    return np.array([img.astype(np.float32) / 255.0 for img in image_list])"
   ]
  },
  {
   "cell_type": "code",
   "execution_count": 26,
   "metadata": {},
   "outputs": [],
   "source": [
    "def preprocess(image_list):\n",
    "    blurred_image = [cv2.GaussianBlur(img, (5, 5), 0) for img in image_list]\n",
    "    edges = [cv2.Canny(img, 100, 200) for img in blurred_image]\n",
    "    return np.array(edges)"
   ]
  },
  {
   "cell_type": "code",
   "execution_count": null,
   "metadata": {},
   "outputs": [
    {
     "data": {
      "text/plain": [
       "(140, 640, 640)"
      ]
     },
     "execution_count": 27,
     "metadata": {},
     "output_type": "execute_result"
    }
   ],
   "source": [
    "# Kyknya normalize ga perlu deh kalau mau pake traditional method, trus kalo normalize tar lgsg rusak pas lu panggil preprocessnya\n",
    "\n",
    "normalized_train_images = normalize(train_images)\n",
    "normalized_test_images = normalize(test_images)\n",
    "normalized_test_images.shape"
   ]
  },
  {
   "cell_type": "code",
   "execution_count": 29,
   "metadata": {},
   "outputs": [
    {
     "data": {
      "text/plain": [
       "(140, 640, 640)"
      ]
     },
     "execution_count": 29,
     "metadata": {},
     "output_type": "execute_result"
    }
   ],
   "source": [
    "preprocessed_test_images = preprocess(test_images)\n",
    "preprocessed_train_images = preprocess(train_images)\n",
    "preprocessed_test_images.shape"
   ]
  },
  {
   "cell_type": "code",
   "execution_count": null,
   "metadata": {},
   "outputs": [],
   "source": [
    "total_class = len(set(train_classes))\n",
    "train_classes_categorical = tf.keras.utils.to_categorical(train_classes, total_class)\n",
    "test_classes_categorical = tf.keras.utils.to_categorical(test_classes, total_class)"
   ]
  },
  {
   "cell_type": "code",
   "execution_count": 13,
   "metadata": {},
   "outputs": [],
   "source": [
    "X_train = normalized_train_images.reshape(len(normalized_train_images), -1)\n",
    "X_test = normalized_test_images.reshape(len(normalized_test_images), -1)"
   ]
  },
  {
   "cell_type": "code",
   "execution_count": 14,
   "metadata": {},
   "outputs": [],
   "source": [
    "y_train = np.argmax(train_classes_categorical, axis=-1)\n",
    "y_test = np.argmax(test_classes_categorical, axis=-1)"
   ]
  },
  {
   "cell_type": "markdown",
   "metadata": {},
   "source": [
    "## Model"
   ]
  },
  {
   "cell_type": "markdown",
   "metadata": {},
   "source": [
    "### CNN"
   ]
  },
  {
   "cell_type": "code",
   "execution_count": 15,
   "metadata": {},
   "outputs": [],
   "source": [
    "CNN_model = tf.keras.Sequential([\n",
    "    tf.keras.layers.Conv2D(\n",
    "        filters=32,\n",
    "        kernel_size=(3,3),\n",
    "        activation='relu',\n",
    "        input_shape=(max_size, max_size, 1)\n",
    "    ),\n",
    "    tf.keras.layers.MaxPool2D(\n",
    "        pool_size=(2,2)\n",
    "    ),\n",
    "    tf.keras.layers.BatchNormalization(),\n",
    "    tf.keras.layers.Conv2D(\n",
    "        filters=64,\n",
    "        kernel_size=(3,3),\n",
    "        activation='relu'\n",
    "    ),\n",
    "    tf.keras.layers.MaxPool2D(\n",
    "        pool_size=(2,2)\n",
    "    ),\n",
    "    tf.keras.layers.BatchNormalization(),\n",
    "    tf.keras.layers.Flatten(),\n",
    "    tf.keras.layers.Dense(\n",
    "        units=128, \n",
    "        activation='relu'\n",
    "    ),\n",
    "    tf.keras.layers.Dropout(\n",
    "        rate=0.5\n",
    "    ),\n",
    "    tf.keras.layers.Dense(\n",
    "        units=64, \n",
    "        activation='relu'\n",
    "    ),\n",
    "    tf.keras.layers.Dropout(\n",
    "        rate=0.25\n",
    "    ),\n",
    "    tf.keras.layers.Dense(\n",
    "        units=total_class, \n",
    "        activation='softmax'\n",
    "    )\n",
    "])"
   ]
  },
  {
   "cell_type": "code",
   "execution_count": 16,
   "metadata": {},
   "outputs": [],
   "source": [
    "# CNN_model.compile(optimizer='adam', loss='categorical_crossentropy', metrics=['accuracy'])\n",
    "# CNN_history = CNN_model.fit(train_images, train_classes_categorical, epochs=10, batch_size = 32, validation_split=0.2)"
   ]
  },
  {
   "cell_type": "code",
   "execution_count": 17,
   "metadata": {},
   "outputs": [],
   "source": [
    "# CNN_model.save('cnn_model.h5')"
   ]
  },
  {
   "cell_type": "markdown",
   "metadata": {},
   "source": [
    "### ResNet50"
   ]
  },
  {
   "cell_type": "code",
   "execution_count": 18,
   "metadata": {},
   "outputs": [
    {
     "ename": "ValueError",
     "evalue": "The input must have 3 channels; Received `input_shape=(640, 640, 1)`",
     "output_type": "error",
     "traceback": [
      "\u001b[1;31m---------------------------------------------------------------------------\u001b[0m",
      "\u001b[1;31mValueError\u001b[0m                                Traceback (most recent call last)",
      "\u001b[1;32m~\\AppData\\Local\\Temp\\ipykernel_19248\\3753501036.py\u001b[0m in \u001b[0;36m<module>\u001b[1;34m\u001b[0m\n\u001b[0;32m      2\u001b[0m     \u001b[0mweights\u001b[0m\u001b[1;33m=\u001b[0m\u001b[1;34m'imagenet'\u001b[0m\u001b[1;33m,\u001b[0m\u001b[1;33m\u001b[0m\u001b[1;33m\u001b[0m\u001b[0m\n\u001b[0;32m      3\u001b[0m     \u001b[0minclude_top\u001b[0m\u001b[1;33m=\u001b[0m\u001b[1;32mFalse\u001b[0m\u001b[1;33m,\u001b[0m\u001b[1;33m\u001b[0m\u001b[1;33m\u001b[0m\u001b[0m\n\u001b[1;32m----> 4\u001b[1;33m     \u001b[0minput_shape\u001b[0m\u001b[1;33m=\u001b[0m\u001b[1;33m(\u001b[0m\u001b[0mmax_size\u001b[0m\u001b[1;33m,\u001b[0m \u001b[0mmax_size\u001b[0m\u001b[1;33m,\u001b[0m \u001b[1;36m1\u001b[0m\u001b[1;33m)\u001b[0m\u001b[1;33m\u001b[0m\u001b[1;33m\u001b[0m\u001b[0m\n\u001b[0m\u001b[0;32m      5\u001b[0m )\n\u001b[0;32m      6\u001b[0m \u001b[0mresnet50_base\u001b[0m\u001b[1;33m.\u001b[0m\u001b[0mtrainable\u001b[0m \u001b[1;33m=\u001b[0m \u001b[1;32mFalse\u001b[0m\u001b[1;33m\u001b[0m\u001b[1;33m\u001b[0m\u001b[0m\n",
      "\u001b[1;32mc:\\Users\\ASUS\\AppData\\Local\\Programs\\Python\\Python37\\lib\\site-packages\\keras\\applications\\resnet.py\u001b[0m in \u001b[0;36mResNet50\u001b[1;34m(include_top, weights, input_tensor, input_shape, pooling, classes, **kwargs)\u001b[0m\n\u001b[0;32m    530\u001b[0m         \u001b[0mpooling\u001b[0m\u001b[1;33m,\u001b[0m\u001b[1;33m\u001b[0m\u001b[1;33m\u001b[0m\u001b[0m\n\u001b[0;32m    531\u001b[0m         \u001b[0mclasses\u001b[0m\u001b[1;33m,\u001b[0m\u001b[1;33m\u001b[0m\u001b[1;33m\u001b[0m\u001b[0m\n\u001b[1;32m--> 532\u001b[1;33m         \u001b[1;33m**\u001b[0m\u001b[0mkwargs\u001b[0m\u001b[1;33m,\u001b[0m\u001b[1;33m\u001b[0m\u001b[1;33m\u001b[0m\u001b[0m\n\u001b[0m\u001b[0;32m    533\u001b[0m     )\n\u001b[0;32m    534\u001b[0m \u001b[1;33m\u001b[0m\u001b[0m\n",
      "\u001b[1;32mc:\\Users\\ASUS\\AppData\\Local\\Programs\\Python\\Python37\\lib\\site-packages\\keras\\applications\\resnet.py\u001b[0m in \u001b[0;36mResNet\u001b[1;34m(stack_fn, preact, use_bias, model_name, include_top, weights, input_tensor, input_shape, pooling, classes, classifier_activation, **kwargs)\u001b[0m\n\u001b[0;32m    163\u001b[0m         \u001b[0mdata_format\u001b[0m\u001b[1;33m=\u001b[0m\u001b[0mbackend\u001b[0m\u001b[1;33m.\u001b[0m\u001b[0mimage_data_format\u001b[0m\u001b[1;33m(\u001b[0m\u001b[1;33m)\u001b[0m\u001b[1;33m,\u001b[0m\u001b[1;33m\u001b[0m\u001b[1;33m\u001b[0m\u001b[0m\n\u001b[0;32m    164\u001b[0m         \u001b[0mrequire_flatten\u001b[0m\u001b[1;33m=\u001b[0m\u001b[0minclude_top\u001b[0m\u001b[1;33m,\u001b[0m\u001b[1;33m\u001b[0m\u001b[1;33m\u001b[0m\u001b[0m\n\u001b[1;32m--> 165\u001b[1;33m         \u001b[0mweights\u001b[0m\u001b[1;33m=\u001b[0m\u001b[0mweights\u001b[0m\u001b[1;33m,\u001b[0m\u001b[1;33m\u001b[0m\u001b[1;33m\u001b[0m\u001b[0m\n\u001b[0m\u001b[0;32m    166\u001b[0m     )\n\u001b[0;32m    167\u001b[0m \u001b[1;33m\u001b[0m\u001b[0m\n",
      "\u001b[1;32mc:\\Users\\ASUS\\AppData\\Local\\Programs\\Python\\Python37\\lib\\site-packages\\keras\\applications\\imagenet_utils.py\u001b[0m in \u001b[0;36mobtain_input_shape\u001b[1;34m(input_shape, default_size, min_size, data_format, require_flatten, weights)\u001b[0m\n\u001b[0;32m    400\u001b[0m                 \u001b[1;32mif\u001b[0m \u001b[0minput_shape\u001b[0m\u001b[1;33m[\u001b[0m\u001b[1;33m-\u001b[0m\u001b[1;36m1\u001b[0m\u001b[1;33m]\u001b[0m \u001b[1;33m!=\u001b[0m \u001b[1;36m3\u001b[0m \u001b[1;32mand\u001b[0m \u001b[0mweights\u001b[0m \u001b[1;33m==\u001b[0m \u001b[1;34m\"imagenet\"\u001b[0m\u001b[1;33m:\u001b[0m\u001b[1;33m\u001b[0m\u001b[1;33m\u001b[0m\u001b[0m\n\u001b[0;32m    401\u001b[0m                     raise ValueError(\n\u001b[1;32m--> 402\u001b[1;33m                         \u001b[1;34m\"The input must have 3 channels; Received \"\u001b[0m\u001b[1;33m\u001b[0m\u001b[1;33m\u001b[0m\u001b[0m\n\u001b[0m\u001b[0;32m    403\u001b[0m                         \u001b[1;34mf\"`input_shape={input_shape}`\"\u001b[0m\u001b[1;33m\u001b[0m\u001b[1;33m\u001b[0m\u001b[0m\n\u001b[0;32m    404\u001b[0m                     )\n",
      "\u001b[1;31mValueError\u001b[0m: The input must have 3 channels; Received `input_shape=(640, 640, 1)`"
     ]
    }
   ],
   "source": [
    "resnet50_base = tf.keras.applications.ResNet50(\n",
    "    weights='imagenet',\n",
    "    include_top=False,\n",
    "    input_shape=(max_size, max_size, 1)\n",
    ")\n",
    "resnet50_base.trainable = False\n",
    "\n",
    "resnet50_model = tf.keras.Sequential([\n",
    "    resnet50_base,\n",
    "    tf.keras.layers.Flatten(),\n",
    "    tf.keras.layers.Dense(\n",
    "        units=128, \n",
    "        activation='relu'\n",
    "    ),\n",
    "    tf.keras.layers.Dropout(\n",
    "        rate=0.5\n",
    "    ),\n",
    "    tf.keras.layers.Dense(\n",
    "        units=64, \n",
    "        activation='relu'\n",
    "    ),\n",
    "    tf.keras.layers.Dropout(\n",
    "        rate=0.25\n",
    "    ),\n",
    "    tf.keras.layers.Dense(\n",
    "        units=total_class, \n",
    "        activation='softmax'\n",
    "    )\n",
    "])"
   ]
  },
  {
   "cell_type": "code",
   "execution_count": null,
   "metadata": {},
   "outputs": [],
   "source": [
    "# resnet50_model.compile(optimizer='adam', loss='categorical_crossentropy', metrics=['accuracy'])\n",
    "# resnet50_history = CNN_model.fit(train_images, train_classes_categorical, epochs=10, batch_size = 32, validation_split=0.2)"
   ]
  },
  {
   "cell_type": "markdown",
   "metadata": {},
   "source": [
    "### SVC"
   ]
  },
  {
   "cell_type": "code",
   "execution_count": null,
   "metadata": {},
   "outputs": [],
   "source": [
    "svc_model = SVC(\n",
    "    kernel='linear',\n",
    "    probability=True\n",
    ")\n",
    "svc_model.fit(X_train, y_train)\n",
    "svc_prediction = svc_model.predict(X_test)\n",
    "svc_report = classification_report(y_test, svc_prediction)\n",
    "svc_accuracy = accuracy_score(y_test, svc_prediction)"
   ]
  },
  {
   "cell_type": "code",
   "execution_count": null,
   "metadata": {},
   "outputs": [],
   "source": [
    "with open('svc_model.pkl', 'wb') as file:\n",
    "    pickle.dump(svc_model, file)"
   ]
  },
  {
   "cell_type": "markdown",
   "metadata": {},
   "source": [
    "### RF"
   ]
  },
  {
   "cell_type": "code",
   "execution_count": null,
   "metadata": {},
   "outputs": [],
   "source": [
    "rf_model = RandomForestClassifier(\n",
    "    n_estimators=100,\n",
    "    random_state=42\n",
    ")\n",
    "rf_model.fit(X_train, y_train)\n",
    "rf_prediction = svc_model.predict(X_test)\n",
    "rf_report = classification_report(y_test, rf_prediction)\n",
    "rf_accuracy = accuracy_score(y_test, rf_prediction)"
   ]
  },
  {
   "cell_type": "markdown",
   "metadata": {},
   "source": [
    "## Visualization"
   ]
  },
  {
   "cell_type": "markdown",
   "metadata": {},
   "source": [
    "# Code 2"
   ]
  },
  {
   "cell_type": "code",
   "execution_count": 18,
   "metadata": {},
   "outputs": [],
   "source": [
    "X_train, y_train = [], []\n",
    "X_test, y_test = [], []\n",
    "\n",
    "for (index, _class) in enumerate(class_list):\n",
    "    class_path = os.path.join(path, _class)\n",
    "\n",
    "    train_path = os.path.join(class_path, 'Train')\n",
    "    for img_path in os.listdir(train_path):\n",
    "        full_path = os.path.join(train_path, img_path)\n",
    "        image = cv2.imread(full_path, cv2.IMREAD_GRAYSCALE)\n",
    "        image = cv2.resize(image, (32,32))\n",
    "        X_train.append(image)\n",
    "        y_train.append(index)\n",
    "\n",
    "    test_path = os.path.join(class_path, 'Test')\n",
    "    for img_path in os.listdir(test_path):\n",
    "        full_path = os.path.join(test_path, img_path)\n",
    "        image = cv2.imread(full_path, cv2.IMREAD_GRAYSCALE)\n",
    "        image = cv2.resize(image, (32,32))\n",
    "        X_test.append(image)\n",
    "        y_test.append(index)\n",
    "\n",
    "# X_train = np.array(X_train)\n",
    "# X_test = np.array(X_test)\n",
    "# y_train = np.array(y_train)\n",
    "# y_test = np.array(y_test)\n",
    "# X_train = X_train.astype('float32') / 255\n",
    "# X_test = X_test.astype('float32') / 255"
   ]
  },
  {
   "cell_type": "code",
   "execution_count": 129,
   "metadata": {},
   "outputs": [],
   "source": [
    "X_test, X_val, y_test, y_val = train_test_split(X_test, y_test,\n",
    "                                            \ttest_size=0.3,\n",
    "                                            \trandom_state=42)"
   ]
  },
  {
   "cell_type": "code",
   "execution_count": 130,
   "metadata": {},
   "outputs": [],
   "source": [
    "num_classes = len(class_list)\n",
    "y_test = tf.keras.utils.to_categorical(y_test, num_classes)\n",
    "y_train = tf.keras.utils.to_categorical(y_train, num_classes)\n",
    "y_val = tf.keras.utils.to_categorical(y_val, num_classes)"
   ]
  },
  {
   "cell_type": "code",
   "execution_count": 131,
   "metadata": {},
   "outputs": [],
   "source": [
    "img_rows,img_cols = 512, 512\n",
    "model = tf.keras.Sequential([\n",
    "    tf.keras.layers.Conv2D(\n",
    "        filters=6, \n",
    "        kernel_size=(3,3), \n",
    "        activation='relu',\n",
    "        input_shape=(img_rows,img_cols,1) \n",
    "    ),\n",
    "    tf.keras.layers.MaxPooling2D(\n",
    "        pool_size=(2,2),\n",
    "        strides=2\n",
    "    ),\n",
    "    tf.keras.layers.Conv2D(\n",
    "        filters=6,\n",
    "        kernel_size=(3,3),\n",
    "        activation='relu'\n",
    "    ),\n",
    "    tf.keras.layers.MaxPooling2D(\n",
    "        pool_size=(2,2),\n",
    "        strides=2\n",
    "    ),\n",
    "    # tf.keras.layers.GlobalAveragePooling2D(),\n",
    "    tf.keras.layers.Flatten(),\n",
    "    # tf.keras.layers.Dense(\n",
    "    #     units=120, \n",
    "    #     activation=\"relu\"\n",
    "    # ),\n",
    "    tf.keras.layers.Dense(\n",
    "        units=60, \n",
    "        activation=\"relu\"\n",
    "    ),\n",
    "    tf.keras.layers.Dense(\n",
    "        units=10, \n",
    "        activation=\"softmax\"\n",
    "    )\n",
    "])"
   ]
  },
  {
   "cell_type": "code",
   "execution_count": 132,
   "metadata": {},
   "outputs": [
    {
     "name": "stdout",
     "output_type": "stream",
     "text": [
      "Epoch 1/10\n",
      "16/16 [==============================] - 23s 1s/step - loss: 3.9208 - accuracy: 0.1143 - val_loss: 2.2740 - val_accuracy: 0.2143\n",
      "Epoch 2/10\n",
      "16/16 [==============================] - 21s 1s/step - loss: 2.2850 - accuracy: 0.1264 - val_loss: 2.3150 - val_accuracy: 0.1429\n",
      "Epoch 3/10\n",
      "16/16 [==============================] - 22s 1s/step - loss: 2.2818 - accuracy: 0.1153 - val_loss: 2.2948 - val_accuracy: 0.1429\n",
      "Epoch 4/10\n",
      "16/16 [==============================] - 22s 1s/step - loss: 2.2462 - accuracy: 0.1274 - val_loss: 2.3107 - val_accuracy: 0.1667\n",
      "Epoch 5/10\n",
      "16/16 [==============================] - 23s 1s/step - loss: 2.2676 - accuracy: 0.1537 - val_loss: 2.3056 - val_accuracy: 0.1190\n",
      "Epoch 6/10\n",
      "16/16 [==============================] - 22s 1s/step - loss: 2.2444 - accuracy: 0.1557 - val_loss: 2.3172 - val_accuracy: 0.1190\n",
      "Epoch 7/10\n",
      "16/16 [==============================] - 22s 1s/step - loss: 2.2119 - accuracy: 0.1689 - val_loss: 2.3434 - val_accuracy: 0.1667\n",
      "Epoch 8/10\n",
      "16/16 [==============================] - 22s 1s/step - loss: 2.1876 - accuracy: 0.1871 - val_loss: 2.3061 - val_accuracy: 0.1429\n",
      "Epoch 9/10\n",
      "16/16 [==============================] - 22s 1s/step - loss: 2.1627 - accuracy: 0.1921 - val_loss: 2.3207 - val_accuracy: 0.1190\n",
      "Epoch 10/10\n",
      "16/16 [==============================] - 22s 1s/step - loss: 2.1344 - accuracy: 0.1992 - val_loss: 2.3045 - val_accuracy: 0.1190\n"
     ]
    }
   ],
   "source": [
    "model.compile(optimizer='adam', loss='categorical_crossentropy', metrics=['accuracy'])\n",
    "history = model.fit(X_train, y_train, epochs=10, batch_size=64, validation_data=(X_val, y_val), callbacks=tf.keras.callbacks.EarlyStopping(\"val_loss\", patience = 10))"
   ]
  },
  {
   "cell_type": "code",
   "execution_count": 111,
   "metadata": {},
   "outputs": [
    {
     "name": "stdout",
     "output_type": "stream",
     "text": [
      "4/4 [==============================] - 0s 8ms/step\n"
     ]
    }
   ],
   "source": [
    "pred = model.predict(X_test)\n",
    "pred_class = np.argmax(pred, axis=1)\n",
    "actual_class = np.argmax(y_test, axis=1)"
   ]
  },
  {
   "cell_type": "code",
   "execution_count": 112,
   "metadata": {},
   "outputs": [
    {
     "name": "stdout",
     "output_type": "stream",
     "text": [
      "actual = Fracture Dislocation, pred = Fracture Dislocation\n",
      "actual = Comminuted fracture, pred = Comminuted fracture\n",
      "actual = Longitudinal fracture, pred = Greenstick fracture\n",
      "actual = Pathological fracture, pred = Greenstick fracture\n",
      "actual = Pathological fracture, pred = Longitudinal fracture\n",
      "actual = Hairline Fracture, pred = Comminuted fracture\n",
      "actual = Fracture Dislocation, pred = Fracture Dislocation\n",
      "actual = Comminuted fracture, pred = Greenstick fracture\n",
      "actual = Longitudinal fracture, pred = Longitudinal fracture\n",
      "actual = Fracture Dislocation, pred = Pathological fracture\n",
      "actual = Comminuted fracture, pred = Hairline Fracture\n",
      "actual = Oblique fracture, pred = Avulsion fracture\n",
      "actual = Impacted fracture, pred = Avulsion fracture\n",
      "actual = Oblique fracture, pred = Greenstick fracture\n",
      "actual = Greenstick fracture, pred = Greenstick fracture\n",
      "actual = Fracture Dislocation, pred = Hairline Fracture\n",
      "actual = Longitudinal fracture, pred = Avulsion fracture\n",
      "actual = Impacted fracture, pred = Greenstick fracture\n",
      "actual = Avulsion fracture, pred = Avulsion fracture\n",
      "actual = Fracture Dislocation, pred = Pathological fracture\n"
     ]
    }
   ],
   "source": [
    "for i in range(20):\n",
    "    actual_label = class_list[actual_class[i]]\n",
    "    pred_label = class_list[pred_class[i]]\n",
    "    print(f\"actual = {actual_label}, pred = {pred_label}\")"
   ]
  },
  {
   "cell_type": "code",
   "execution_count": 116,
   "metadata": {},
   "outputs": [
    {
     "data": {
      "image/png": "[encoded data removed]",
      "text/plain": [
       "<Figure size 1600x900 with 2 Axes>"
      ]
     },
     "metadata": {},
     "output_type": "display_data"
    }
   ],
   "source": [
    "plt.figure(figsize=(16,9))\n",
    "plt.subplot(1,2,1)\n",
    "plt.title(\"Accuracy\")\n",
    "plt.plot(history.history['accuracy'], label='training accuracy')\n",
    "plt.plot(history.history['val_accuracy'], label='validation accuracy')\n",
    "plt.legend()\n",
    "plt.xlabel(\"epoch\")\n",
    "plt.ylabel(\"accuracy\")\n",
    "\n",
    "plt.subplot(1,2,2)\n",
    "plt.title(\"Loss\")\n",
    "plt.plot(history.history['loss'], label='training loss')\n",
    "plt.plot(history.history['val_loss'], label='validation loss')\n",
    "plt.legend()\n",
    "plt.xlabel(\"epoch\")\n",
    "plt.ylabel(\"loss\")\n",
    "\n",
    "plt.show()"
   ]
  },
  {
   "cell_type": "code",
   "execution_count": 148,
   "metadata": {},
   "outputs": [
    {
     "name": "stdout",
     "output_type": "stream",
     "text": [
      "WARNING:tensorflow:Model was constructed with shape (None, 32, 32, 3) for input KerasTensor(type_spec=TensorSpec(shape=(None, 32, 32, 3), dtype=tf.float32, name='input_7'), name='input_7', description=\"created by layer 'input_7'\"), but it was called on an input with incompatible shape (None, 32, 32).\n"
     ]
    },
    {
     "ename": "ValueError",
     "evalue": "in user code:\n\n    File \"c:\\Users\\ASUS\\AppData\\Local\\Programs\\Python\\Python37\\lib\\site-packages\\keras\\engine\\training.py\", line 2137, in predict_function  *\n        return step_function(self, iterator)\n    File \"c:\\Users\\ASUS\\AppData\\Local\\Programs\\Python\\Python37\\lib\\site-packages\\keras\\engine\\training.py\", line 2123, in step_function  **\n        outputs = model.distribute_strategy.run(run_step, args=(data,))\n    File \"c:\\Users\\ASUS\\AppData\\Local\\Programs\\Python\\Python37\\lib\\site-packages\\keras\\engine\\training.py\", line 2111, in run_step  **\n        outputs = model.predict_step(data)\n    File \"c:\\Users\\ASUS\\AppData\\Local\\Programs\\Python\\Python37\\lib\\site-packages\\keras\\engine\\training.py\", line 2079, in predict_step\n        return self(x, training=False)\n    File \"c:\\Users\\ASUS\\AppData\\Local\\Programs\\Python\\Python37\\lib\\site-packages\\keras\\utils\\traceback_utils.py\", line 70, in error_handler\n        raise e.with_traceback(filtered_tb) from None\n    File \"c:\\Users\\ASUS\\AppData\\Local\\Programs\\Python\\Python37\\lib\\site-packages\\keras\\engine\\input_spec.py\", line 251, in assert_input_compatibility\n        f'Input {input_index} of layer \"{layer_name}\" '\n\n    ValueError: Exception encountered when calling layer 'vgg16' (type Functional).\n    \n    Input 0 of layer \"block1_conv1\" is incompatible with the layer: expected min_ndim=4, found ndim=3. Full shape received: (None, 32, 32)\n    \n    Call arguments received by layer 'vgg16' (type Functional):\n      • inputs=tf.Tensor(shape=(None, 32, 32), dtype=float32)\n      • training=False\n      • mask=None\n",
     "output_type": "error",
     "traceback": [
      "\u001b[1;31m---------------------------------------------------------------------------\u001b[0m",
      "\u001b[1;31mValueError\u001b[0m                                Traceback (most recent call last)",
      "\u001b[1;32m~\\AppData\\Local\\Temp\\ipykernel_26076\\3326881564.py\u001b[0m in \u001b[0;36m<module>\u001b[1;34m\u001b[0m\n\u001b[0;32m      6\u001b[0m \u001b[1;33m\u001b[0m\u001b[0m\n\u001b[0;32m      7\u001b[0m \u001b[1;31m# Extract features\u001b[0m\u001b[1;33m\u001b[0m\u001b[1;33m\u001b[0m\u001b[1;33m\u001b[0m\u001b[0m\n\u001b[1;32m----> 8\u001b[1;33m \u001b[0mX_train_cnn\u001b[0m \u001b[1;33m=\u001b[0m \u001b[0mvgg\u001b[0m\u001b[1;33m.\u001b[0m\u001b[0mpredict\u001b[0m\u001b[1;33m(\u001b[0m\u001b[0mpreprocess_input\u001b[0m\u001b[1;33m(\u001b[0m\u001b[0mX_train\u001b[0m\u001b[1;33m)\u001b[0m\u001b[1;33m)\u001b[0m\u001b[1;33m\u001b[0m\u001b[1;33m\u001b[0m\u001b[0m\n\u001b[0m\u001b[0;32m      9\u001b[0m \u001b[0mX_test_cnn\u001b[0m \u001b[1;33m=\u001b[0m \u001b[0mvgg\u001b[0m\u001b[1;33m.\u001b[0m\u001b[0mpredict\u001b[0m\u001b[1;33m(\u001b[0m\u001b[0mpreprocess_input\u001b[0m\u001b[1;33m(\u001b[0m\u001b[0mX_test\u001b[0m\u001b[1;33m)\u001b[0m\u001b[1;33m)\u001b[0m\u001b[1;33m\u001b[0m\u001b[1;33m\u001b[0m\u001b[0m\n\u001b[0;32m     10\u001b[0m \u001b[1;33m\u001b[0m\u001b[0m\n",
      "\u001b[1;32mc:\\Users\\ASUS\\AppData\\Local\\Programs\\Python\\Python37\\lib\\site-packages\\keras\\utils\\traceback_utils.py\u001b[0m in \u001b[0;36merror_handler\u001b[1;34m(*args, **kwargs)\u001b[0m\n\u001b[0;32m     68\u001b[0m             \u001b[1;31m# To get the full stack trace, call:\u001b[0m\u001b[1;33m\u001b[0m\u001b[1;33m\u001b[0m\u001b[1;33m\u001b[0m\u001b[0m\n\u001b[0;32m     69\u001b[0m             \u001b[1;31m# `tf.debugging.disable_traceback_filtering()`\u001b[0m\u001b[1;33m\u001b[0m\u001b[1;33m\u001b[0m\u001b[1;33m\u001b[0m\u001b[0m\n\u001b[1;32m---> 70\u001b[1;33m             \u001b[1;32mraise\u001b[0m \u001b[0me\u001b[0m\u001b[1;33m.\u001b[0m\u001b[0mwith_traceback\u001b[0m\u001b[1;33m(\u001b[0m\u001b[0mfiltered_tb\u001b[0m\u001b[1;33m)\u001b[0m \u001b[1;32mfrom\u001b[0m \u001b[1;32mNone\u001b[0m\u001b[1;33m\u001b[0m\u001b[1;33m\u001b[0m\u001b[0m\n\u001b[0m\u001b[0;32m     71\u001b[0m         \u001b[1;32mfinally\u001b[0m\u001b[1;33m:\u001b[0m\u001b[1;33m\u001b[0m\u001b[1;33m\u001b[0m\u001b[0m\n\u001b[0;32m     72\u001b[0m             \u001b[1;32mdel\u001b[0m \u001b[0mfiltered_tb\u001b[0m\u001b[1;33m\u001b[0m\u001b[1;33m\u001b[0m\u001b[0m\n",
      "\u001b[1;32mc:\\Users\\ASUS\\AppData\\Local\\Programs\\Python\\Python37\\lib\\site-packages\\keras\\engine\\training.py\u001b[0m in \u001b[0;36mtf__predict_function\u001b[1;34m(iterator)\u001b[0m\n\u001b[0;32m     13\u001b[0m                 \u001b[1;32mtry\u001b[0m\u001b[1;33m:\u001b[0m\u001b[1;33m\u001b[0m\u001b[1;33m\u001b[0m\u001b[0m\n\u001b[0;32m     14\u001b[0m                     \u001b[0mdo_return\u001b[0m \u001b[1;33m=\u001b[0m \u001b[1;32mTrue\u001b[0m\u001b[1;33m\u001b[0m\u001b[1;33m\u001b[0m\u001b[0m\n\u001b[1;32m---> 15\u001b[1;33m                     \u001b[0mretval_\u001b[0m \u001b[1;33m=\u001b[0m \u001b[0mag__\u001b[0m\u001b[1;33m.\u001b[0m\u001b[0mconverted_call\u001b[0m\u001b[1;33m(\u001b[0m\u001b[0mag__\u001b[0m\u001b[1;33m.\u001b[0m\u001b[0mld\u001b[0m\u001b[1;33m(\u001b[0m\u001b[0mstep_function\u001b[0m\u001b[1;33m)\u001b[0m\u001b[1;33m,\u001b[0m \u001b[1;33m(\u001b[0m\u001b[0mag__\u001b[0m\u001b[1;33m.\u001b[0m\u001b[0mld\u001b[0m\u001b[1;33m(\u001b[0m\u001b[0mself\u001b[0m\u001b[1;33m)\u001b[0m\u001b[1;33m,\u001b[0m \u001b[0mag__\u001b[0m\u001b[1;33m.\u001b[0m\u001b[0mld\u001b[0m\u001b[1;33m(\u001b[0m\u001b[0miterator\u001b[0m\u001b[1;33m)\u001b[0m\u001b[1;33m)\u001b[0m\u001b[1;33m,\u001b[0m \u001b[1;32mNone\u001b[0m\u001b[1;33m,\u001b[0m \u001b[0mfscope\u001b[0m\u001b[1;33m)\u001b[0m\u001b[1;33m\u001b[0m\u001b[1;33m\u001b[0m\u001b[0m\n\u001b[0m\u001b[0;32m     16\u001b[0m                 \u001b[1;32mexcept\u001b[0m\u001b[1;33m:\u001b[0m\u001b[1;33m\u001b[0m\u001b[1;33m\u001b[0m\u001b[0m\n\u001b[0;32m     17\u001b[0m                     \u001b[0mdo_return\u001b[0m \u001b[1;33m=\u001b[0m \u001b[1;32mFalse\u001b[0m\u001b[1;33m\u001b[0m\u001b[1;33m\u001b[0m\u001b[0m\n",
      "\u001b[1;31mValueError\u001b[0m: in user code:\n\n    File \"c:\\Users\\ASUS\\AppData\\Local\\Programs\\Python\\Python37\\lib\\site-packages\\keras\\engine\\training.py\", line 2137, in predict_function  *\n        return step_function(self, iterator)\n    File \"c:\\Users\\ASUS\\AppData\\Local\\Programs\\Python\\Python37\\lib\\site-packages\\keras\\engine\\training.py\", line 2123, in step_function  **\n        outputs = model.distribute_strategy.run(run_step, args=(data,))\n    File \"c:\\Users\\ASUS\\AppData\\Local\\Programs\\Python\\Python37\\lib\\site-packages\\keras\\engine\\training.py\", line 2111, in run_step  **\n        outputs = model.predict_step(data)\n    File \"c:\\Users\\ASUS\\AppData\\Local\\Programs\\Python\\Python37\\lib\\site-packages\\keras\\engine\\training.py\", line 2079, in predict_step\n        return self(x, training=False)\n    File \"c:\\Users\\ASUS\\AppData\\Local\\Programs\\Python\\Python37\\lib\\site-packages\\keras\\utils\\traceback_utils.py\", line 70, in error_handler\n        raise e.with_traceback(filtered_tb) from None\n    File \"c:\\Users\\ASUS\\AppData\\Local\\Programs\\Python\\Python37\\lib\\site-packages\\keras\\engine\\input_spec.py\", line 251, in assert_input_compatibility\n        f'Input {input_index} of layer \"{layer_name}\" '\n\n    ValueError: Exception encountered when calling layer 'vgg16' (type Functional).\n    \n    Input 0 of layer \"block1_conv1\" is incompatible with the layer: expected min_ndim=4, found ndim=3. Full shape received: (None, 32, 32)\n    \n    Call arguments received by layer 'vgg16' (type Functional):\n      • inputs=tf.Tensor(shape=(None, 32, 32), dtype=float32)\n      • training=False\n      • mask=None\n"
     ]
    }
   ],
   "source": [
    "from tensorflow.keras.applications import VGG16\n",
    "from tensorflow.keras.applications.vgg16 import preprocess_input\n",
    "\n",
    "# Load pretrained VGG16 model without the top layer\n",
    "vgg = VGG16(weights='imagenet', include_top=False, input_shape=(32, 32, 3))\n",
    "\n",
    "# Extract features\n",
    "X_train_cnn = vgg.predict(preprocess_input(X_train))\n",
    "X_test_cnn = vgg.predict(preprocess_input(X_test))\n",
    "\n",
    "# Flatten the features\n",
    "X_train_cnn_flat = X_train_cnn.reshape(X_train_cnn.shape[0], -1)\n",
    "X_test_cnn_flat = X_test_cnn.reshape(X_test_cnn.shape[0], -1)\n",
    "\n",
    "# Train a classifier\n",
    "svc_model = SVC(kernel='linear', C=1.0)\n",
    "svc_model.fit(X_train_cnn_flat, y_train)\n",
    "\n",
    "# Evaluate\n",
    "svc_predictions = svc_model.predict(X_test_cnn_flat)\n",
    "print(\"Classification Report:\")\n",
    "print(classification_report(y_test, svc_predictions))\n"
   ]
  },
  {
   "cell_type": "markdown",
   "metadata": {},
   "source": [
    "# Code 3"
   ]
  },
  {
   "cell_type": "code",
   "execution_count": 42,
   "metadata": {},
   "outputs": [],
   "source": [
    "X_train, y_train = [], []\n",
    "X_test, y_test = [], []\n",
    "\n",
    "for (index, _class) in enumerate(class_list):\n",
    "    class_path = os.path.join(path, _class)\n",
    "\n",
    "    train_path = os.path.join(class_path, 'Train')\n",
    "    for img_path in os.listdir(train_path):\n",
    "        full_path = os.path.join(train_path, img_path)\n",
    "        image = cv2.imread(full_path)\n",
    "        image = cv2.resize(image, (128,128))\n",
    "        X_train.append(image)\n",
    "        y_train.append(index)\n",
    "\n",
    "    test_path = os.path.join(class_path, 'Test')\n",
    "    for img_path in os.listdir(test_path):\n",
    "        full_path = os.path.join(test_path, img_path)\n",
    "        image = cv2.imread(full_path)\n",
    "        image = cv2.resize(image, (128,128))\n",
    "        X_test.append(image)\n",
    "        y_test.append(index)\n",
    "\n",
    "# X_train = np.array(X_train)\n",
    "# X_test = np.array(X_test)\n",
    "# y_train = np.array(y_train)\n",
    "# y_test = np.array(y_test)\n",
    "# X_train = X_train.astype('float32') / 255\n",
    "# X_test = X_test.astype('float32') / 255"
   ]
  },
  {
   "cell_type": "code",
   "execution_count": 50,
   "metadata": {},
   "outputs": [],
   "source": [
    "def extract_sift_features(images):\n",
    "    sift = cv2.SIFT_create()\n",
    "    descriptors_list = []\n",
    "    \n",
    "    for img in images:\n",
    "        gray = cv2.cvtColor(img, cv2.COLOR_BGR2GRAY)  # Convert to grayscale\n",
    "        keypoints, descriptors = sift.detectAndCompute(gray, None)\n",
    "        if descriptors is not None:\n",
    "            descriptors_list.append(descriptors)\n",
    "    return descriptors_list"
   ]
  },
  {
   "cell_type": "code",
   "execution_count": 54,
   "metadata": {},
   "outputs": [],
   "source": [
    "def create_bovw(descriptors, n_clusters=50):\n",
    "    descriptors = np.vstack(descriptors)\n",
    "    kmeans = KMeans(n_clusters=n_clusters, random_state=42)\n",
    "    kmeans.fit(descriptors)\n",
    "    visual_words = kmeans.cluster_centers_\n",
    "    \n",
    "    bovw_features = []\n",
    "    for descriptor in descriptors:\n",
    "        histogram = np.zeros(n_clusters)\n",
    "        for desc in descriptor:\n",
    "            cluster_idx = kmeans.predict(desc.reshape(1, -1))[0]\n",
    "            histogram[cluster_idx] += 1\n",
    "        bovw_features.append(histogram)\n",
    "    return np.array(bovw_features), kmeans\n"
   ]
  },
  {
   "cell_type": "code",
   "execution_count": 56,
   "metadata": {},
   "outputs": [],
   "source": [
    "def create_bovw(descriptors_list, num_clusters=100):\n",
    "    # Combine all descriptors into a single array\n",
    "    all_descriptors = np.vstack(descriptors_list)\n",
    "\n",
    "    # KMeans clustering\n",
    "    kmeans = KMeans(n_clusters=num_clusters, random_state=42)\n",
    "    kmeans.fit(all_descriptors)\n",
    "\n",
    "    # Map descriptors to clusters\n",
    "    bovw_features = []\n",
    "    for descriptor in descriptors_list:\n",
    "        histogram = np.zeros(num_clusters)\n",
    "        for desc in descriptor:\n",
    "            if len(desc) == kmeans.n_features_in_:  # Ensure desc matches KMeans feature size\n",
    "                cluster_idx = kmeans.predict(desc.reshape(1, -1))[0]\n",
    "                histogram[cluster_idx] += 1\n",
    "        bovw_features.append(histogram)\n",
    "    \n",
    "    return np.array(bovw_features), kmeans\n"
   ]
  },
  {
   "cell_type": "code",
   "execution_count": 58,
   "metadata": {},
   "outputs": [],
   "source": [
    "X_train_descriptors = extract_sift_features(X_train)\n",
    "X_test_descriptors = extract_sift_features(X_test)\n",
    "\n",
    "X_train_bovw_features, X_train_kmeans = create_bovw(X_train_descriptors)\n",
    "X_test_bovw_features, X_test_kmeans = create_bovw(X_test_descriptors)"
   ]
  },
  {
   "cell_type": "code",
   "execution_count": 59,
   "metadata": {},
   "outputs": [
    {
     "name": "stdout",
     "output_type": "stream",
     "text": [
      "Random Forest Accuracy: 0.12142857142857143\n",
      "              precision    recall  f1-score   support\n",
      "\n",
      "           0       0.06      0.07      0.07        14\n",
      "           1       0.18      0.50      0.26        14\n",
      "           2       0.23      0.26      0.24        19\n",
      "           3       0.09      0.12      0.10        16\n",
      "           4       0.14      0.20      0.17        10\n",
      "           5       0.00      0.00      0.00         9\n",
      "           6       0.00      0.00      0.00        12\n",
      "           7       0.00      0.00      0.00        16\n",
      "           8       0.00      0.00      0.00        18\n",
      "           9       0.00      0.00      0.00        12\n",
      "\n",
      "    accuracy                           0.12       140\n",
      "   macro avg       0.07      0.12      0.08       140\n",
      "weighted avg       0.08      0.12      0.09       140\n",
      "\n"
     ]
    },
    {
     "name": "stderr",
     "output_type": "stream",
     "text": [
      "c:\\Users\\ASUS\\AppData\\Local\\Programs\\Python\\Python37\\lib\\site-packages\\sklearn\\metrics\\_classification.py:1318: UndefinedMetricWarning: Precision and F-score are ill-defined and being set to 0.0 in labels with no predicted samples. Use `zero_division` parameter to control this behavior.\n",
      "  _warn_prf(average, modifier, msg_start, len(result))\n",
      "c:\\Users\\ASUS\\AppData\\Local\\Programs\\Python\\Python37\\lib\\site-packages\\sklearn\\metrics\\_classification.py:1318: UndefinedMetricWarning: Precision and F-score are ill-defined and being set to 0.0 in labels with no predicted samples. Use `zero_division` parameter to control this behavior.\n",
      "  _warn_prf(average, modifier, msg_start, len(result))\n",
      "c:\\Users\\ASUS\\AppData\\Local\\Programs\\Python\\Python37\\lib\\site-packages\\sklearn\\metrics\\_classification.py:1318: UndefinedMetricWarning: Precision and F-score are ill-defined and being set to 0.0 in labels with no predicted samples. Use `zero_division` parameter to control this behavior.\n",
      "  _warn_prf(average, modifier, msg_start, len(result))\n"
     ]
    }
   ],
   "source": [
    "rf_model = RandomForestClassifier(n_estimators=100, random_state=42)\n",
    "rf_model.fit(X_train_bovw_features, y_train)\n",
    "rf_predictions = rf_model.predict(X_test_bovw_features)\n",
    "\n",
    "print(\"Random Forest Accuracy:\", accuracy_score(y_test, rf_predictions))\n",
    "print(classification_report(y_test, rf_predictions))\n"
   ]
  },
  {
   "cell_type": "code",
   "execution_count": 60,
   "metadata": {},
   "outputs": [
    {
     "name": "stdout",
     "output_type": "stream",
     "text": [
      "SVC Accuracy: 0.09285714285714286\n",
      "              precision    recall  f1-score   support\n",
      "\n",
      "           0       0.12      0.14      0.13        14\n",
      "           1       0.08      0.07      0.08        14\n",
      "           2       0.13      0.16      0.14        19\n",
      "           3       0.00      0.00      0.00        16\n",
      "           4       0.00      0.00      0.00        10\n",
      "           5       0.00      0.00      0.00         9\n",
      "           6       0.33      0.25      0.29        12\n",
      "           7       0.00      0.00      0.00        16\n",
      "           8       0.27      0.17      0.21        18\n",
      "           9       0.17      0.08      0.11        12\n",
      "\n",
      "    accuracy                           0.09       140\n",
      "   macro avg       0.11      0.09      0.10       140\n",
      "weighted avg       0.12      0.09      0.10       140\n",
      "\n"
     ]
    }
   ],
   "source": [
    "svc_model = SVC(kernel='linear', C=1, random_state=42)\n",
    "svc_model.fit(X_train_bovw_features, y_train)\n",
    "svc_predictions = svc_model.predict(X_test_bovw_features)\n",
    "\n",
    "print(\"SVC Accuracy:\", accuracy_score(y_test, svc_predictions))\n",
    "print(classification_report(y_test, svc_predictions))\n"
   ]
  }
 ],
 "metadata": {
  "kernelspec": {
   "display_name": "Python 3",
   "language": "python",
   "name": "python3"
  },
  "language_info": {
   "codemirror_mode": {
    "name": "ipython",
    "version": 3
   },
   "file_extension": ".py",
   "mimetype": "text/x-python",
   "name": "python",
   "nbconvert_exporter": "python",
   "pygments_lexer": "ipython3",
   "version": "3.7.6"
  }
 },
 "nbformat": 4,
 "nbformat_minor": 2
}
