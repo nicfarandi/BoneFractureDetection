{
 "cells": [
  {
   "cell_type": "markdown",
   "metadata": {},
   "source": [
    "# TODO"
   ]
  },
  {
   "cell_type": "markdown",
   "metadata": {},
   "source": [
    "```TODO\n",
    "1. Bikin model\n",
    "2. Buat laporan\n",
    "3. Buat UI nya\n",
    "4. Buat Demo video"
   ]
  },
  {
   "cell_type": "markdown",
   "metadata": {},
   "source": [
    "# Import Libraries"
   ]
  },
  {
   "cell_type": "code",
   "execution_count": 6,
   "metadata": {},
   "outputs": [],
   "source": [
    "import cv2\n",
    "import numpy as np\n",
    "import matplotlib.pyplot as plt\n",
    "import os\n",
    "import tensorflow as tf\n",
    "from sklearn.model_selection import train_test_split"
   ]
  },
  {
   "cell_type": "markdown",
   "metadata": {},
   "source": [
    "# Code"
   ]
  },
  {
   "cell_type": "code",
   "execution_count": 7,
   "metadata": {},
   "outputs": [
    {
     "name": "stdout",
     "output_type": "stream",
     "text": [
      "['Avulsion fracture', 'Comminuted fracture', 'Fracture Dislocation', 'Greenstick fracture', 'Hairline Fracture', 'Impacted fracture', 'Longitudinal fracture', 'Oblique fracture', 'Pathological fracture', 'Spiral Fracture']\n"
     ]
    }
   ],
   "source": [
    "path = 'Bone Break Classification'\n",
    "class_list = os.listdir(path)\n",
    "print(class_list)"
   ]
  },
  {
   "cell_type": "markdown",
   "metadata": {},
   "source": [
    "## Import Dataset"
   ]
  },
  {
   "cell_type": "code",
   "execution_count": null,
   "metadata": {},
   "outputs": [],
   "source": [
    "# error\n",
    "img_dim = [378, 622]\n",
    "train_images, train_classes = [], []\n",
    "test_images, test_classes = [], []\n",
    "\n",
    "for (index, _class) in enumerate(class_list):\n",
    "    class_path = os.path.join(path, _class)\n",
    "\n",
    "    test_path = os.path.join(class_path, 'Test')\n",
    "    for img_path in os.listdir(test_path):\n",
    "        full_path = os.path.join(test_path, img_path)\n",
    "        image = tf.keras.preprocessing.image.load_img(full_path, target_size=img_dim)\n",
    "        image = tf.keras.preprocessing.image.img_to_array(image)\n",
    "        train_images.append(image)\n",
    "        train_classes.append(index)\n",
    "\n",
    "    train_path = os.path.join(class_path, 'Train')\n",
    "    for img_path in os.listdir(train_path):\n",
    "        full_path = os.path.join(train_path, img_path)\n",
    "        image = tf.keras.preprocessing.image.load_img(full_path, target_size=img_dim)\n",
    "        image = tf.keras.preprocessing.image.img_to_array(image)\n",
    "        test_images.append(image)\n",
    "        test_classes.append(index)    "
   ]
  },
  {
   "cell_type": "code",
   "execution_count": 9,
   "metadata": {},
   "outputs": [
    {
     "data": {
      "text/plain": [
       "-1"
      ]
     },
     "execution_count": 9,
     "metadata": {},
     "output_type": "execute_result"
    }
   ],
   "source": [
    "cv2.imshow(\"\", train_images[1])\n",
    "cv2.waitKey(0)"
   ]
  }
 ],
 "metadata": {
  "kernelspec": {
   "display_name": "Python 3",
   "language": "python",
   "name": "python3"
  },
  "language_info": {
   "codemirror_mode": {
    "name": "ipython",
    "version": 3
   },
   "file_extension": ".py",
   "mimetype": "text/x-python",
   "name": "python",
   "nbconvert_exporter": "python",
   "pygments_lexer": "ipython3",
   "version": "3.7.6"
  }
 },
 "nbformat": 4,
 "nbformat_minor": 2
}
