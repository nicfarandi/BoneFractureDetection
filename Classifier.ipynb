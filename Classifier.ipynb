{
 "cells": [
  {
   "cell_type": "markdown",
   "metadata": {
    "id": "Ti7exIFogXx7"
   },
   "source": [
    "# Import Libraries"
   ]
  },
  {
   "cell_type": "code",
   "execution_count": 1,
   "metadata": {
    "executionInfo": {
     "elapsed": 505,
     "status": "ok",
     "timestamp": 1733717161363,
     "user": {
      "displayName": "",
      "userId": ""
     },
     "user_tz": -420
    },
    "id": "6OBGgxQSgXx7"
   },
   "outputs": [],
   "source": [
    "import cv2\n",
    "import numpy as np\n",
    "import matplotlib.pyplot as plt\n",
    "import os\n",
    "import tensorflow as tf\n",
    "import sklearn\n",
    "import random\n",
    "import pickle\n",
    "from sklearn.svm import SVC\n",
    "from sklearn.ensemble import RandomForestClassifier\n",
    "from sklearn.metrics import classification_report, accuracy_score\n",
    "from sklearn.model_selection import train_test_split\n",
    "from sklearn.preprocessing import LabelEncoder, StandardScaler\n",
    "from sklearn.cluster import KMeans\n",
    "from sklearn.decomposition import PCA\n",
    "from sklearn.preprocessing import normalize\n",
    "from sklearn.utils import shuffle\n",
    "from tqdm import tqdm"
   ]
  },
  {
   "cell_type": "markdown",
   "metadata": {
    "id": "74emn0t3gXx9"
   },
   "source": [
    "# Import Dataset"
   ]
  },
  {
   "cell_type": "code",
   "execution_count": 2,
   "metadata": {
    "colab": {
     "base_uri": "https://localhost:8080/"
    },
    "executionInfo": {
     "elapsed": 3,
     "status": "ok",
     "timestamp": 1733711374113,
     "user": {
      "displayName": "",
      "userId": ""
     },
     "user_tz": -420
    },
    "id": "BefTU6HugXx-",
    "outputId": "7f27c34a-287c-4cd3-d8e3-5de7990ec2b9"
   },
   "outputs": [
    {
     "name": "stdout",
     "output_type": "stream",
     "text": [
      "['Avulsion fracture', 'Comminuted fracture', 'Fracture Dislocation', 'Greenstick fracture', 'Hairline Fracture']\n"
     ]
    }
   ],
   "source": [
    "path = 'Bone Break Classification'\n",
    "class_list = os.listdir(path)\n",
    "print(class_list)"
   ]
  },
  {
   "cell_type": "code",
   "execution_count": 90,
   "metadata": {
    "executionInfo": {
     "elapsed": 2513,
     "status": "ok",
     "timestamp": 1733711378759,
     "user": {
      "displayName": "",
      "userId": ""
     },
     "user_tz": -420
    },
    "id": "bXxAd_ewgXyS"
   },
   "outputs": [],
   "source": [
    "X_train, y_train = [], []\n",
    "X_test, y_test = [], []\n",
    "\n",
    "for (index, _class) in enumerate(class_list):\n",
    "\n",
    "    class_path = os.path.join(path, _class)\n",
    "\n",
    "    train_path = os.path.join(class_path, 'Train')\n",
    "    for img_path in os.listdir(train_path):\n",
    "        full_path = os.path.join(train_path, img_path)\n",
    "        image = cv2.imread(full_path, 0)\n",
    "        image = cv2.resize(image, (256,256))\n",
    "        X_train.append(image)\n",
    "        y_train.append(index)\n",
    "\n",
    "    test_path = os.path.join(class_path, 'Test')\n",
    "    for img_path in os.listdir(test_path):\n",
    "        full_path = os.path.join(test_path, img_path)\n",
    "        image = cv2.imread(full_path, 0)\n",
    "        image = cv2.resize(image, (256,256))\n",
    "        X_test.append(image)\n",
    "        y_test.append(index)"
   ]
  },
  {
   "cell_type": "code",
   "execution_count": 91,
   "metadata": {
    "executionInfo": {
     "elapsed": 1702,
     "status": "ok",
     "timestamp": 1733711386440,
     "user": {
      "displayName": "",
      "userId": ""
     },
     "user_tz": -420
    },
    "id": "pT-c6kQfgXyS"
   },
   "outputs": [],
   "source": [
    "def preprocess(image_list, edge_detection_type='canny'):\n",
    "    blurred_image = [cv2.medianBlur(img, 5) for img in image_list]\n",
    "\n",
    "    if edge_detection_type == \"sobel\":\n",
    "        sobel_edges = [\n",
    "            cv2.Sobel(img, cv2.CV_64F, 1, 0, ksize=3) + cv2.Sobel(img, cv2.CV_64F, 0, 1, ksize=3)\n",
    "            for img in blurred_image\n",
    "        ]\n",
    "        edge_detected_images = [cv2.convertScaleAbs(edge) for edge in sobel_edges]\n",
    "    elif edge_detection_type == \"canny\":\n",
    "        edge_detected_images = [\n",
    "            cv2.Canny(img, 50, 100) for img in blurred_image\n",
    "        ]\n",
    "    else:\n",
    "        raise ValueError(\"Invalid edge_detection_type. Choose 'sobel' or 'canny'.\")\n",
    "\n",
    "    return np.array(edge_detected_images)"
   ]
  },
  {
   "cell_type": "code",
   "execution_count": 92,
   "metadata": {
    "colab": {
     "base_uri": "https://localhost:8080/"
    },
    "executionInfo": {
     "elapsed": 1035,
     "status": "ok",
     "timestamp": 1733715776305,
     "user": {
      "displayName": "",
      "userId": ""
     },
     "user_tz": -420
    },
    "id": "APO2uDpQgXyT",
    "outputId": "426f5671-0669-4237-aaa7-32ff2f05ad79"
   },
   "outputs": [
    {
     "data": {
      "text/plain": [
       "(587, 256, 256)"
      ]
     },
     "execution_count": 92,
     "metadata": {},
     "output_type": "execute_result"
    }
   ],
   "source": [
    "X_train_preprocessed = preprocess(X_train, edge_detection_type='sobel')\n",
    "X_test_preprocessed = preprocess(X_test, edge_detection_type='sobel')\n",
    "X_train_preprocessed.shape"
   ]
  },
  {
   "cell_type": "code",
   "execution_count": 94,
   "metadata": {
    "executionInfo": {
     "elapsed": 4,
     "status": "ok",
     "timestamp": 1733715819073,
     "user": {
      "displayName": "",
      "userId": ""
     },
     "user_tz": -420
    },
    "id": "OHvArm7LgXyU"
   },
   "outputs": [],
   "source": [
    "def extract_descriptors(image_list, descriptor_type=\"SIFT\", max_descriptors=None):\n",
    "    if descriptor_type == \"SIFT\":\n",
    "        extractor = cv2.SIFT_create(nfeatures=max_descriptors if max_descriptors else 0)\n",
    "        descriptor_dim = 128\n",
    "    elif descriptor_type == \"AKAZE\":\n",
    "        extractor = cv2.AKAZE_create()\n",
    "        descriptor_dim = 64\n",
    "    else:\n",
    "        raise ValueError(\"Invalid descriptor_type\")\n",
    "\n",
    "    all_descriptors = []\n",
    "    descriptor_counts = []\n",
    "\n",
    "    for img in tqdm(image_list, desc=f\"Extracting {descriptor_type} descriptors\"):\n",
    "        _, descriptors = extractor.detectAndCompute(img, None)\n",
    "\n",
    "        if descriptors is None:\n",
    "            descriptor_count = 0\n",
    "            descriptors = np.zeros((0, descriptor_dim), dtype=np.float32)\n",
    "        else:\n",
    "            descriptor_count = descriptors.shape[0]\n",
    "            if max_descriptors and descriptor_count > max_descriptors:\n",
    "                descriptors = descriptors[:max_descriptors]\n",
    "            descriptors = normalize(descriptors, norm='l2')\n",
    "\n",
    "        descriptor_counts.append(min(max_descriptors, descriptor_count) if max_descriptors else descriptor_count)\n",
    "        all_descriptors.append(descriptors)\n",
    "\n",
    "    return all_descriptors, descriptor_counts"
   ]
  },
  {
   "cell_type": "code",
   "execution_count": 95,
   "metadata": {
    "colab": {
     "base_uri": "https://localhost:8080/"
    },
    "executionInfo": {
     "elapsed": 17522,
     "status": "ok",
     "timestamp": 1733715838741,
     "user": {
      "displayName": "",
      "userId": ""
     },
     "user_tz": -420
    },
    "id": "EYSpqI1ygXyU",
    "outputId": "77261921-60e3-42ed-8185-c7acd3dc743c"
   },
   "outputs": [
    {
     "name": "stderr",
     "output_type": "stream",
     "text": [
      "Extracting SIFT descriptors: 100%|██████████| 587/587 [00:23<00:00, 25.46it/s]\n",
      "Extracting AKAZE descriptors: 100%|██████████| 587/587 [00:05<00:00, 99.81it/s] \n"
     ]
    }
   ],
   "source": [
    "X_train_features_sift, X_train_sift_counts = extract_descriptors(X_train_preprocessed, \"SIFT\")\n",
    "X_train_features_akaze, X_train_akaze_counts = extract_descriptors(X_train_preprocessed, \"AKAZE\")"
   ]
  },
  {
   "cell_type": "code",
   "execution_count": 97,
   "metadata": {
    "colab": {
     "base_uri": "https://localhost:8080/",
     "height": 346
    },
    "executionInfo": {
     "elapsed": 1600,
     "status": "ok",
     "timestamp": 1733718911568,
     "user": {
      "displayName": "",
      "userId": ""
     },
     "user_tz": -420
    },
    "id": "Bf9to5OOT8Dl",
    "outputId": "ebdb09ae-8925-4231-81a9-21f3ffbc3bf1"
   },
   "outputs": [
    {
     "name": "stdout",
     "output_type": "stream",
     "text": [
      "Average Descriptors (SIFT): 384.62691652470187\n",
      "Average Descriptors (AKAZE): 122.03236797274276\n"
     ]
    },
    {
     "data": {
      "image/png": "[encoded data removed]",
      "text/plain": [
       "<Figure size 1600x500 with 2 Axes>"
      ]
     },
     "metadata": {},
     "output_type": "display_data"
    }
   ],
   "source": [
    "plt.figure(figsize=(16, 5))\n",
    "\n",
    "plt.subplot(1, 2, 1)\n",
    "plt.hist(X_train_sift_counts, bins=20, color='blue', edgecolor='black', alpha=0.7)\n",
    "plt.title(\"Distribution of SIFT Descriptor Counts\")\n",
    "plt.xlabel(\"Number of Descriptors\")\n",
    "plt.ylabel(\"Frequency\")\n",
    "plt.grid(axis='y', linestyle='--', alpha=0.7)\n",
    "\n",
    "plt.subplot(1, 2, 2)\n",
    "plt.hist(X_train_akaze_counts, bins=20, color='green', edgecolor='black', alpha=0.7)\n",
    "plt.title(\"Distribution of AKAZE Descriptor Counts\")\n",
    "plt.xlabel(\"Number of Descriptors\")\n",
    "plt.ylabel(\"Frequency\")\n",
    "plt.grid(axis='y', linestyle='--', alpha=0.7)\n",
    "\n",
    "sift_descriptor_count = np.mean(X_train_sift_counts)\n",
    "akaze_descriptor_count = np.mean(X_train_akaze_counts)\n",
    "\n",
    "print(f'Average Descriptors (SIFT): {sift_descriptor_count}')\n",
    "print(f'Average Descriptors (AKAZE): {akaze_descriptor_count}')\n",
    "\n",
    "plt.tight_layout()\n",
    "plt.show()"
   ]
  },
  {
   "cell_type": "code",
   "execution_count": 98,
   "metadata": {},
   "outputs": [
    {
     "name": "stderr",
     "output_type": "stream",
     "text": [
      "Extracting SIFT descriptors: 100%|██████████| 587/587 [00:15<00:00, 36.86it/s]\n",
      "Extracting AKAZE descriptors: 100%|██████████| 587/587 [00:05<00:00, 99.39it/s] \n",
      "Extracting SIFT descriptors: 100%|██████████| 73/73 [00:01<00:00, 38.00it/s]\n",
      "Extracting AKAZE descriptors: 100%|██████████| 73/73 [00:00<00:00, 94.19it/s] \n"
     ]
    }
   ],
   "source": [
    "X_train_features_sift, X_train_sift_counts = extract_descriptors(X_train_preprocessed, \"SIFT\", 200)\n",
    "X_train_features_akaze, X_train_akaze_counts = extract_descriptors(X_train_preprocessed, \"AKAZE\", 100)\n",
    "\n",
    "X_test_features_sift, X_test_sift_counts = extract_descriptors(X_test_preprocessed, \"SIFT\", 200)\n",
    "X_test_features_akaze, X_test_akaze_counts = extract_descriptors(X_test_preprocessed, \"AKAZE\", 100)"
   ]
  },
  {
   "cell_type": "code",
   "execution_count": 99,
   "metadata": {},
   "outputs": [
    {
     "name": "stdout",
     "output_type": "stream",
     "text": [
      "192.82112436115844\n",
      "75.96422487223168\n"
     ]
    }
   ],
   "source": [
    "sift_descriptor_count = np.mean(X_train_sift_counts)\n",
    "akaze_descriptor_count = np.mean(X_train_akaze_counts)\n",
    "print(sift_descriptor_count)\n",
    "print(akaze_descriptor_count)"
   ]
  },
  {
   "cell_type": "code",
   "execution_count": 100,
   "metadata": {
    "executionInfo": {
     "elapsed": 1561,
     "status": "ok",
     "timestamp": 1733715848648,
     "user": {
      "displayName": "",
      "userId": ""
     },
     "user_tz": -420
    },
    "id": "YGLM3avggXyV"
   },
   "outputs": [],
   "source": [
    "def create_bovw(descriptors_list, kmeans):\n",
    "    bovw_features = []\n",
    "    for descriptor in descriptors_list:\n",
    "        histogram = np.zeros(kmeans.n_clusters)\n",
    "        for desc in descriptor:\n",
    "            if len(desc) == kmeans.n_features_in_:\n",
    "                cluster_idx = kmeans.predict(desc.reshape(1, -1))[0]\n",
    "                histogram[cluster_idx] += 1\n",
    "        bovw_features.append(histogram)\n",
    "\n",
    "    return np.array(bovw_features)"
   ]
  },
  {
   "cell_type": "code",
   "execution_count": 101,
   "metadata": {
    "executionInfo": {
     "elapsed": 1,
     "status": "ok",
     "timestamp": 1733715849170,
     "user": {
      "displayName": "",
      "userId": ""
     },
     "user_tz": -420
    },
    "id": "iEjd7269VkvP"
   },
   "outputs": [],
   "source": [
    "def get_n_clusters(num_descriptors=None, percentage=None):\n",
    "  if num_descriptors is None or percentage is None:\n",
    "    return 100\n",
    "  else:\n",
    "    return int(num_descriptors * (percentage / 100))"
   ]
  },
  {
   "cell_type": "code",
   "execution_count": 102,
   "metadata": {
    "executionInfo": {
     "elapsed": 517,
     "status": "ok",
     "timestamp": 1733715856273,
     "user": {
      "displayName": "",
      "userId": ""
     },
     "user_tz": -420
    },
    "id": "4uarhiG2gXyV"
   },
   "outputs": [],
   "source": [
    "sift_descriptors = np.vstack([desc for desc in X_train_features_sift if desc.shape[0] > 0])\n",
    "akaze_descriptors = np.vstack([desc for desc in X_train_features_akaze if desc.shape[0] > 0])"
   ]
  },
  {
   "cell_type": "code",
   "execution_count": 103,
   "metadata": {
    "executionInfo": {
     "elapsed": 54722,
     "status": "ok",
     "timestamp": 1733715912997,
     "user": {
      "displayName": "",
      "userId": ""
     },
     "user_tz": -420
    },
    "id": "bOFdZaTHWfZh"
   },
   "outputs": [],
   "source": [
    "kmeans_sift_20 = KMeans(n_clusters=get_n_clusters(sift_descriptor_count, 20), random_state=42).fit(sift_descriptors)\n",
    "kmeans_akaze_20 = KMeans(n_clusters=get_n_clusters(akaze_descriptor_count, 20), random_state=42).fit(akaze_descriptors)\n",
    "\n",
    "kmeans_sift_40 = KMeans(n_clusters=get_n_clusters(sift_descriptor_count, 40), random_state=42).fit(sift_descriptors)\n",
    "kmeans_akaze_40 = KMeans(n_clusters=get_n_clusters(akaze_descriptor_count, 40), random_state=42).fit(akaze_descriptors)\n",
    "\n",
    "kmeans_sift_80 = KMeans(n_clusters=get_n_clusters(sift_descriptor_count, 80), random_state=42).fit(sift_descriptors)\n",
    "kmeans_akaze_80 = KMeans(n_clusters=get_n_clusters(akaze_descriptor_count, 80), random_state=42).fit(akaze_descriptors)"
   ]
  },
  {
   "cell_type": "code",
   "execution_count": 104,
   "metadata": {
    "executionInfo": {
     "elapsed": 47080,
     "status": "ok",
     "timestamp": 1733716482001,
     "user": {
      "displayName": "",
      "userId": ""
     },
     "user_tz": -420
    },
    "id": "5MOCjgRVgXyW"
   },
   "outputs": [],
   "source": [
    "X_train_bovw_sift = create_bovw(X_train_features_sift, kmeans_sift_20)\n",
    "X_train_bovw_akaze = create_bovw(X_train_features_akaze, kmeans_akaze_20)\n",
    "\n",
    "X_test_bovw_sift = create_bovw(X_test_features_sift, kmeans_sift_20)\n",
    "X_test_bovw_akaze = create_bovw(X_test_features_akaze, kmeans_akaze_20)"
   ]
  },
  {
   "cell_type": "code",
   "execution_count": 105,
   "metadata": {
    "executionInfo": {
     "elapsed": 3,
     "status": "ok",
     "timestamp": 1733716482001,
     "user": {
      "displayName": "",
      "userId": ""
     },
     "user_tz": -420
    },
    "id": "kQG8ECqygXyW"
   },
   "outputs": [],
   "source": [
    "X_train_bovw = np.hstack([X_train_bovw_sift, X_train_bovw_akaze])\n",
    "X_test_bovw = np.hstack([X_test_bovw_sift, X_test_bovw_akaze])"
   ]
  },
  {
   "cell_type": "code",
   "execution_count": 123,
   "metadata": {
    "colab": {
     "base_uri": "https://localhost:8080/"
    },
    "executionInfo": {
     "elapsed": 1530,
     "status": "ok",
     "timestamp": 1733718708911,
     "user": {
      "displayName": "",
      "userId": ""
     },
     "user_tz": -420
    },
    "id": "u_LupJhNgXyX",
    "outputId": "0e37ff34-8ee0-4fe2-d047-4f04ebea2b52"
   },
   "outputs": [
    {
     "name": "stdout",
     "output_type": "stream",
     "text": [
      "Random Forest Accuracy: 43.83561643835616%\n",
      "              precision    recall  f1-score   support\n",
      "\n",
      "           0       0.33      0.36      0.34        14\n",
      "           1       0.45      0.64      0.53        14\n",
      "           2       0.38      0.53      0.44        19\n",
      "           3       0.70      0.44      0.54        16\n",
      "           4       0.50      0.10      0.17        10\n",
      "\n",
      "    accuracy                           0.44        73\n",
      "   macro avg       0.47      0.41      0.40        73\n",
      "weighted avg       0.47      0.44      0.42        73\n",
      "\n"
     ]
    }
   ],
   "source": [
    "rf_model = RandomForestClassifier(n_estimators=800, max_depth=20, random_state=42)\n",
    "rf_model.fit(X_train_bovw, y_train)\n",
    "rf_predictions = rf_model.predict(X_test_bovw)\n",
    "\n",
    "print(f\"Random Forest Accuracy: {accuracy_score(y_test, rf_predictions) * 100}%\")\n",
    "print(classification_report(y_test, rf_predictions))"
   ]
  },
  {
   "cell_type": "code",
   "execution_count": 156,
   "metadata": {
    "colab": {
     "base_uri": "https://localhost:8080/"
    },
    "executionInfo": {
     "elapsed": 2119,
     "status": "ok",
     "timestamp": 1733717789761,
     "user": {
      "displayName": "",
      "userId": ""
     },
     "user_tz": -420
    },
    "id": "I7bwomacgXyX",
    "outputId": "b8b33aec-e6d5-446f-b515-77d42b561957"
   },
   "outputs": [
    {
     "name": "stdout",
     "output_type": "stream",
     "text": [
      "XGBoost Accuracy: 41.0958904109589%\n",
      "              precision    recall  f1-score   support\n",
      "\n",
      "           0       0.50      0.36      0.42        14\n",
      "           1       0.35      0.57      0.43        14\n",
      "           2       0.38      0.42      0.40        19\n",
      "           3       0.50      0.31      0.38        16\n",
      "           4       0.44      0.40      0.42        10\n",
      "\n",
      "    accuracy                           0.41        73\n",
      "   macro avg       0.43      0.41      0.41        73\n",
      "weighted avg       0.43      0.41      0.41        73\n",
      "\n"
     ]
    }
   ],
   "source": [
    "from xgboost import XGBClassifier\n",
    "\n",
    "xgb_model = XGBClassifier(n_estimators=200, max_depth=5, learning_rate=0.05)\n",
    "xgb_model.fit(X_train_bovw, y_train)\n",
    "xgb_predictions = xgb_model.predict(X_test_bovw)\n",
    "\n",
    "print(f\"XGBoost Accuracy: {accuracy_score(y_test, xgb_predictions) * 100}%\")\n",
    "print(classification_report(y_test, xgb_predictions))"
   ]
  },
  {
   "cell_type": "code",
   "execution_count": 165,
   "metadata": {
    "colab": {
     "base_uri": "https://localhost:8080/"
    },
    "executionInfo": {
     "elapsed": 487,
     "status": "ok",
     "timestamp": 1733717912215,
     "user": {
      "displayName": "",
      "userId": ""
     },
     "user_tz": -420
    },
    "id": "qKAu40w7gXyY",
    "outputId": "411c39cb-01bb-4059-a93a-1d308b76c4f2"
   },
   "outputs": [
    {
     "name": "stdout",
     "output_type": "stream",
     "text": [
      "SVC Accuracy: 36.986301369863014%\n",
      "              precision    recall  f1-score   support\n",
      "\n",
      "           0       0.29      0.29      0.29        14\n",
      "           1       0.40      0.57      0.47        14\n",
      "           2       0.28      0.26      0.27        19\n",
      "           3       0.62      0.50      0.55        16\n",
      "           4       0.25      0.20      0.22        10\n",
      "\n",
      "    accuracy                           0.37        73\n",
      "   macro avg       0.37      0.36      0.36        73\n",
      "weighted avg       0.37      0.37      0.37        73\n",
      "\n"
     ]
    }
   ],
   "source": [
    "svc_model = SVC(kernel='rbf', C=7, random_state=42)\n",
    "svc_model.fit(X_train_bovw, y_train)\n",
    "svc_predictions = svc_model.predict(X_test_bovw)\n",
    "\n",
    "print(f\"SVC Accuracy: {accuracy_score(y_test, svc_predictions) * 100}%\")\n",
    "print(classification_report(y_test, svc_predictions))"
   ]
  },
  {
   "cell_type": "code",
   "execution_count": 166,
   "metadata": {
    "executionInfo": {
     "elapsed": 514,
     "status": "ok",
     "timestamp": 1733718830564,
     "user": {
      "displayName": "",
      "userId": ""
     },
     "user_tz": -420
    },
    "id": "RGHOUIzqgXyY"
   },
   "outputs": [],
   "source": [
    "import pickle\n",
    "\n",
    "with open('./models/kmeans_sift.pkl', 'wb') as f:\n",
    "    pickle.dump(kmeans_sift_20, f)\n",
    "\n",
    "with open('./models/kmeans_akaze.pkl', 'wb') as f:\n",
    "    pickle.dump(kmeans_akaze_20, f)\n",
    "\n",
    "with open('./models/xgboost.pkl', 'wb') as f:\n",
    "    pickle.dump(xgb_model, f)\n",
    "\n",
    "with open('./models/rf_model.pkl', 'wb') as f:\n",
    "    pickle.dump(rf_model, f)\n",
    "\n",
    "with open('./models/svc.pkl', 'wb') as f:\n",
    "    pickle.dump(svc_model, f)\n",
    "\n",
    "np.save('./tensors/X_train_bovw.npy', X_train_bovw)\n",
    "np.save('./tensors/X_test_bovw.npy', X_test_bovw)"
   ]
  },
  {
   "cell_type": "code",
   "execution_count": 167,
   "metadata": {
    "colab": {
     "base_uri": "https://localhost:8080/"
    },
    "executionInfo": {
     "elapsed": 612,
     "status": "ok",
     "timestamp": 1733718958488,
     "user": {
      "displayName": "",
      "userId": ""
     },
     "user_tz": -420
    },
    "id": "kmYMvd2RgXyZ",
    "outputId": "32df0564-0ab6-482b-c07f-a7a467b1483f"
   },
   "outputs": [
    {
     "name": "stderr",
     "output_type": "stream",
     "text": [
      "Extracting SIFT descriptors: 100%|██████████| 1/1 [00:00<00:00, 22.73it/s]\n",
      "Extracting AKAZE descriptors: 100%|██████████| 1/1 [00:00<00:00, 45.46it/s]\n"
     ]
    },
    {
     "data": {
      "text/plain": [
       "array([2])"
      ]
     },
     "execution_count": 167,
     "metadata": {},
     "output_type": "execute_result"
    }
   ],
   "source": [
    "with open(\"./models/kmeans_sift.pkl\", 'rb') as f:\n",
    "    kmeans_sift_tester = pickle.load(f)\n",
    "\n",
    "with open(\"./models/kmeans_akaze.pkl\", 'rb') as f:\n",
    "    kmeans_akaze_tester = pickle.load(f)\n",
    "\n",
    "with open(\"./models/rf_model.pkl\", 'rb') as f:\n",
    "    rf_tester = pickle.load(f)\n",
    "\n",
    "random_image = [X_test[42]]\n",
    "\n",
    "random_image = preprocess(random_image)\n",
    "\n",
    "random_image_sift, _ = extract_descriptors(random_image, descriptor_type='SIFT')\n",
    "random_image_akaze, _ = extract_descriptors(random_image, descriptor_type=\"AKAZE\")\n",
    "\n",
    "random_image_bovw_sift = create_bovw(random_image_sift, kmeans_sift_tester)\n",
    "random_image_bovw_akaze = create_bovw(random_image_akaze, kmeans_akaze_tester)\n",
    "\n",
    "random_image_bovw = np.hstack([random_image_bovw_sift, random_image_bovw_akaze])\n",
    "rf_tester.predict(random_image_bovw)"
   ]
  }
 ],
 "metadata": {
  "colab": {
   "name": "Model.ipynb",
   "provenance": []
  },
  "kernelspec": {
   "display_name": "Python 3",
   "language": "python",
   "name": "python3"
  },
  "language_info": {
   "codemirror_mode": {
    "name": "ipython",
    "version": 3
   },
   "file_extension": ".py",
   "mimetype": "text/x-python",
   "name": "python",
   "nbconvert_exporter": "python",
   "pygments_lexer": "ipython3",
   "version": "3.7.6"
  }
 },
 "nbformat": 4,
 "nbformat_minor": 0
}
